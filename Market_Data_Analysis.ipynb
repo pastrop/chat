{
  "nbformat": 4,
  "nbformat_minor": 0,
  "metadata": {
    "colab": {
      "name": "Market_Data_Analysis.ipynb",
      "provenance": [],
      "authorship_tag": "ABX9TyOqZphk1NVa4xOQUiQoWlVb",
      "include_colab_link": true
    },
    "kernelspec": {
      "name": "python3",
      "display_name": "Python 3"
    }
  },
  "cells": [
    {
      "cell_type": "markdown",
      "metadata": {
        "id": "view-in-github",
        "colab_type": "text"
      },
      "source": [
        "<a href=\"https://colab.research.google.com/github/pastrop/chat/blob/master/Market_Data_Analysis.ipynb\" target=\"_parent\"><img src=\"https://colab.research.google.com/assets/colab-badge.svg\" alt=\"Open In Colab\"/></a>"
      ]
    },
    {
      "cell_type": "markdown",
      "metadata": {
        "id": "TOokcMrK-RFd"
      },
      "source": [
        "The Notebook is inspired by the Kaggle Jane Street competion. The target variable (presented as a product of transaction response and transaction weight) is Poisson distributed.  Therefore the idea is to consider the target as some sort of a integer \"score\" and apply GLM model using the target log as an intermediary variable  "
      ]
    },
    {
      "cell_type": "code",
      "metadata": {
        "id": "eQPDzvxgL07o"
      },
      "source": [
        "%%capture\r\n",
        "!pip install kaggle"
      ],
      "execution_count": 1,
      "outputs": []
    },
    {
      "cell_type": "code",
      "metadata": {
        "colab": {
          "resources": {
            "http://localhost:8080/nbextensions/google.colab/files.js": {
              "data": "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",
              "ok": true,
              "headers": [
                [
                  "content-type",
                  "application/javascript"
                ]
              ],
              "status": 200,
              "status_text": ""
            }
          },
          "base_uri": "https://localhost:8080/",
          "height": 73
        },
        "id": "F3ulP22dPpJL",
        "outputId": "b80169c8-cb70-4eaa-d9e9-5f7465379edd"
      },
      "source": [
        "# file upload while using Google Colab\r\n",
        "from google.colab import files\r\n",
        "uploaded = files.upload()"
      ],
      "execution_count": 2,
      "outputs": [
        {
          "output_type": "display_data",
          "data": {
            "text/html": [
              "\n",
              "     <input type=\"file\" id=\"files-f8e17118-7a37-4268-b00c-88e5efc0f7ec\" name=\"files[]\" multiple disabled\n",
              "        style=\"border:none\" />\n",
              "     <output id=\"result-f8e17118-7a37-4268-b00c-88e5efc0f7ec\">\n",
              "      Upload widget is only available when the cell has been executed in the\n",
              "      current browser session. Please rerun this cell to enable.\n",
              "      </output>\n",
              "      <script src=\"/nbextensions/google.colab/files.js\"></script> "
            ],
            "text/plain": [
              "<IPython.core.display.HTML object>"
            ]
          },
          "metadata": {
            "tags": []
          }
        },
        {
          "output_type": "stream",
          "text": [
            "Saving kaggle.json to kaggle.json\n"
          ],
          "name": "stdout"
        }
      ]
    },
    {
      "cell_type": "code",
      "metadata": {
        "id": "EsXWXdMoL-cQ"
      },
      "source": [
        "! mkdir ~/.kaggle\r\n",
        "! cp kaggle.json ~/.kaggle/"
      ],
      "execution_count": 3,
      "outputs": []
    },
    {
      "cell_type": "code",
      "metadata": {
        "id": "PvG8gdeYQMGY"
      },
      "source": [
        " ! kaggle datasets list"
      ],
      "execution_count": null,
      "outputs": []
    },
    {
      "cell_type": "code",
      "metadata": {
        "id": "HuhI9D8UMIJv"
      },
      "source": [
        "#!cp /content/.kaggle/kaggle.json ~/.kaggle/kaggle.json\r\n",
        "#!kaggle config set -n path -v{/content}\r\n",
        "!chmod 600 /root/.kaggle/kaggle.json\r\n",
        "#!kaggle competitions download -c jane-street-market-prediction\r\n",
        "!kaggle competitions download -c jane-street-market-prediction -f example_test.csv"
      ],
      "execution_count": null,
      "outputs": []
    },
    {
      "cell_type": "code",
      "metadata": {
        "colab": {
          "base_uri": "https://localhost:8080/"
        },
        "id": "9IJLsRNFRHFJ",
        "outputId": "c4691ab6-b268-43a7-806c-e6674b76b210"
      },
      "source": [
        "!unzip example_test.csv.zip"
      ],
      "execution_count": 7,
      "outputs": [
        {
          "output_type": "stream",
          "text": [
            "Archive:  example_test.csv.zip\n",
            "  inflating: example_test.csv        \n"
          ],
          "name": "stdout"
        }
      ]
    },
    {
      "cell_type": "code",
      "metadata": {
        "id": "kZXju3RhRUt1"
      },
      "source": [
        "import pandas"
      ],
      "execution_count": 8,
      "outputs": []
    },
    {
      "cell_type": "code",
      "metadata": {
        "id": "NNYO3VzMRRyh"
      },
      "source": [
        "df = pandas.read_csv('example_test.csv')"
      ],
      "execution_count": 9,
      "outputs": []
    },
    {
      "cell_type": "code",
      "metadata": {
        "colab": {
          "base_uri": "https://localhost:8080/",
          "height": 222
        },
        "id": "m9gf5pSzRhSe",
        "outputId": "f0b5bc95-ec96-4a3d-fe24-513a0eeccb7c"
      },
      "source": [
        "df.tail(4)"
      ],
      "execution_count": 46,
      "outputs": [
        {
          "output_type": "execute_result",
          "data": {
            "text/html": [
              "<div>\n",
              "<style scoped>\n",
              "    .dataframe tbody tr th:only-of-type {\n",
              "        vertical-align: middle;\n",
              "    }\n",
              "\n",
              "    .dataframe tbody tr th {\n",
              "        vertical-align: top;\n",
              "    }\n",
              "\n",
              "    .dataframe thead th {\n",
              "        text-align: right;\n",
              "    }\n",
              "</style>\n",
              "<table border=\"1\" class=\"dataframe\">\n",
              "  <thead>\n",
              "    <tr style=\"text-align: right;\">\n",
              "      <th></th>\n",
              "      <th>weight</th>\n",
              "      <th>feature_0</th>\n",
              "      <th>feature_1</th>\n",
              "      <th>feature_2</th>\n",
              "      <th>feature_3</th>\n",
              "      <th>feature_4</th>\n",
              "      <th>feature_5</th>\n",
              "      <th>feature_6</th>\n",
              "      <th>feature_7</th>\n",
              "      <th>feature_8</th>\n",
              "      <th>feature_9</th>\n",
              "      <th>feature_10</th>\n",
              "      <th>feature_11</th>\n",
              "      <th>feature_12</th>\n",
              "      <th>feature_13</th>\n",
              "      <th>feature_14</th>\n",
              "      <th>feature_15</th>\n",
              "      <th>feature_16</th>\n",
              "      <th>feature_17</th>\n",
              "      <th>feature_18</th>\n",
              "      <th>feature_19</th>\n",
              "      <th>feature_20</th>\n",
              "      <th>feature_21</th>\n",
              "      <th>feature_22</th>\n",
              "      <th>feature_23</th>\n",
              "      <th>feature_24</th>\n",
              "      <th>feature_25</th>\n",
              "      <th>feature_26</th>\n",
              "      <th>feature_27</th>\n",
              "      <th>feature_28</th>\n",
              "      <th>feature_29</th>\n",
              "      <th>feature_30</th>\n",
              "      <th>feature_31</th>\n",
              "      <th>feature_32</th>\n",
              "      <th>feature_33</th>\n",
              "      <th>feature_34</th>\n",
              "      <th>feature_35</th>\n",
              "      <th>feature_36</th>\n",
              "      <th>feature_37</th>\n",
              "      <th>feature_38</th>\n",
              "      <th>...</th>\n",
              "      <th>feature_92</th>\n",
              "      <th>feature_93</th>\n",
              "      <th>feature_94</th>\n",
              "      <th>feature_95</th>\n",
              "      <th>feature_96</th>\n",
              "      <th>feature_97</th>\n",
              "      <th>feature_98</th>\n",
              "      <th>feature_99</th>\n",
              "      <th>feature_100</th>\n",
              "      <th>feature_101</th>\n",
              "      <th>feature_102</th>\n",
              "      <th>feature_103</th>\n",
              "      <th>feature_104</th>\n",
              "      <th>feature_105</th>\n",
              "      <th>feature_106</th>\n",
              "      <th>feature_107</th>\n",
              "      <th>feature_108</th>\n",
              "      <th>feature_109</th>\n",
              "      <th>feature_110</th>\n",
              "      <th>feature_111</th>\n",
              "      <th>feature_112</th>\n",
              "      <th>feature_113</th>\n",
              "      <th>feature_114</th>\n",
              "      <th>feature_115</th>\n",
              "      <th>feature_116</th>\n",
              "      <th>feature_117</th>\n",
              "      <th>feature_118</th>\n",
              "      <th>feature_119</th>\n",
              "      <th>feature_120</th>\n",
              "      <th>feature_121</th>\n",
              "      <th>feature_122</th>\n",
              "      <th>feature_123</th>\n",
              "      <th>feature_124</th>\n",
              "      <th>feature_125</th>\n",
              "      <th>feature_126</th>\n",
              "      <th>feature_127</th>\n",
              "      <th>feature_128</th>\n",
              "      <th>feature_129</th>\n",
              "      <th>date</th>\n",
              "      <th>ts_id</th>\n",
              "    </tr>\n",
              "  </thead>\n",
              "  <tbody>\n",
              "    <tr>\n",
              "      <th>15201</th>\n",
              "      <td>1.360193</td>\n",
              "      <td>1</td>\n",
              "      <td>-1.811504</td>\n",
              "      <td>-2.306446</td>\n",
              "      <td>3.917303</td>\n",
              "      <td>2.495504</td>\n",
              "      <td>1.390398</td>\n",
              "      <td>0.762097</td>\n",
              "      <td>2.701736</td>\n",
              "      <td>1.994287</td>\n",
              "      <td>1.246563</td>\n",
              "      <td>-0.081644</td>\n",
              "      <td>0.910395</td>\n",
              "      <td>0.513021</td>\n",
              "      <td>1.082228</td>\n",
              "      <td>0.064262</td>\n",
              "      <td>2.654127</td>\n",
              "      <td>1.641796</td>\n",
              "      <td>2.953507</td>\n",
              "      <td>2.605335</td>\n",
              "      <td>3.306616</td>\n",
              "      <td>2.385943</td>\n",
              "      <td>2.339956</td>\n",
              "      <td>0.887497</td>\n",
              "      <td>2.847250</td>\n",
              "      <td>2.181867</td>\n",
              "      <td>3.564012</td>\n",
              "      <td>2.514675</td>\n",
              "      <td>-1.462478</td>\n",
              "      <td>-1.542918</td>\n",
              "      <td>-2.734258</td>\n",
              "      <td>-2.614825</td>\n",
              "      <td>-1.161378</td>\n",
              "      <td>-1.522605</td>\n",
              "      <td>-2.074266</td>\n",
              "      <td>-1.569261</td>\n",
              "      <td>-3.877179</td>\n",
              "      <td>-2.627221</td>\n",
              "      <td>5.234008</td>\n",
              "      <td>3.998935</td>\n",
              "      <td>...</td>\n",
              "      <td>0.059481</td>\n",
              "      <td>0.123030</td>\n",
              "      <td>-0.549534</td>\n",
              "      <td>1.222079</td>\n",
              "      <td>0.711601</td>\n",
              "      <td>2.408301</td>\n",
              "      <td>0.875383</td>\n",
              "      <td>0.766502</td>\n",
              "      <td>1.748452</td>\n",
              "      <td>1.731263</td>\n",
              "      <td>0.590631</td>\n",
              "      <td>2.172258</td>\n",
              "      <td>0.491447</td>\n",
              "      <td>0.692573</td>\n",
              "      <td>2.366708</td>\n",
              "      <td>1.588642</td>\n",
              "      <td>0.691344</td>\n",
              "      <td>1.133971</td>\n",
              "      <td>0.402477</td>\n",
              "      <td>0.410161</td>\n",
              "      <td>1.007794</td>\n",
              "      <td>1.992913</td>\n",
              "      <td>0.255665</td>\n",
              "      <td>1.243711</td>\n",
              "      <td>0.399559</td>\n",
              "      <td>0.582253</td>\n",
              "      <td>0.997620</td>\n",
              "      <td>1.096480</td>\n",
              "      <td>1.452227</td>\n",
              "      <td>-1.938755</td>\n",
              "      <td>3.743729</td>\n",
              "      <td>0.754253</td>\n",
              "      <td>1.499055</td>\n",
              "      <td>-1.817823</td>\n",
              "      <td>2.469732</td>\n",
              "      <td>-1.051702</td>\n",
              "      <td>2.867944</td>\n",
              "      <td>-0.301983</td>\n",
              "      <td>2</td>\n",
              "      <td>15201</td>\n",
              "    </tr>\n",
              "    <tr>\n",
              "      <th>15202</th>\n",
              "      <td>1.991327</td>\n",
              "      <td>-1</td>\n",
              "      <td>0.766996</td>\n",
              "      <td>0.397504</td>\n",
              "      <td>3.884914</td>\n",
              "      <td>3.558184</td>\n",
              "      <td>3.226635</td>\n",
              "      <td>2.914808</td>\n",
              "      <td>-0.206605</td>\n",
              "      <td>-0.295693</td>\n",
              "      <td>2.247463</td>\n",
              "      <td>1.420535</td>\n",
              "      <td>0.733564</td>\n",
              "      <td>0.925141</td>\n",
              "      <td>3.555319</td>\n",
              "      <td>2.892152</td>\n",
              "      <td>0.877779</td>\n",
              "      <td>0.819234</td>\n",
              "      <td>-0.271972</td>\n",
              "      <td>-0.323216</td>\n",
              "      <td>-0.857819</td>\n",
              "      <td>-0.960311</td>\n",
              "      <td>-0.762781</td>\n",
              "      <td>-0.369449</td>\n",
              "      <td>-0.849923</td>\n",
              "      <td>-0.943265</td>\n",
              "      <td>-1.064225</td>\n",
              "      <td>-1.079241</td>\n",
              "      <td>1.468363</td>\n",
              "      <td>2.004095</td>\n",
              "      <td>2.644734</td>\n",
              "      <td>3.046008</td>\n",
              "      <td>2.722473</td>\n",
              "      <td>3.972460</td>\n",
              "      <td>4.707609</td>\n",
              "      <td>4.733023</td>\n",
              "      <td>3.524039</td>\n",
              "      <td>3.199631</td>\n",
              "      <td>-0.948648</td>\n",
              "      <td>-0.891579</td>\n",
              "      <td>...</td>\n",
              "      <td>1.870334</td>\n",
              "      <td>4.078434</td>\n",
              "      <td>5.410662</td>\n",
              "      <td>1.644804</td>\n",
              "      <td>0.969590</td>\n",
              "      <td>-0.052016</td>\n",
              "      <td>2.220295</td>\n",
              "      <td>2.633331</td>\n",
              "      <td>-0.337409</td>\n",
              "      <td>2.063076</td>\n",
              "      <td>0.648598</td>\n",
              "      <td>-0.305265</td>\n",
              "      <td>1.344597</td>\n",
              "      <td>2.362943</td>\n",
              "      <td>-0.828432</td>\n",
              "      <td>1.585756</td>\n",
              "      <td>1.617314</td>\n",
              "      <td>4.832769</td>\n",
              "      <td>1.913416</td>\n",
              "      <td>3.449848</td>\n",
              "      <td>4.182430</td>\n",
              "      <td>2.641958</td>\n",
              "      <td>0.766632</td>\n",
              "      <td>4.788559</td>\n",
              "      <td>2.085793</td>\n",
              "      <td>4.152676</td>\n",
              "      <td>3.762411</td>\n",
              "      <td>1.259828</td>\n",
              "      <td>0.101602</td>\n",
              "      <td>-0.369151</td>\n",
              "      <td>1.151413</td>\n",
              "      <td>1.301698</td>\n",
              "      <td>-0.061946</td>\n",
              "      <td>-1.062610</td>\n",
              "      <td>0.575003</td>\n",
              "      <td>0.261161</td>\n",
              "      <td>1.205862</td>\n",
              "      <td>1.145315</td>\n",
              "      <td>2</td>\n",
              "      <td>15202</td>\n",
              "    </tr>\n",
              "    <tr>\n",
              "      <th>15211</th>\n",
              "      <td>3.221672</td>\n",
              "      <td>-1</td>\n",
              "      <td>11.429610</td>\n",
              "      <td>7.072927</td>\n",
              "      <td>-6.714210</td>\n",
              "      <td>-4.166545</td>\n",
              "      <td>-3.980052</td>\n",
              "      <td>-2.372645</td>\n",
              "      <td>-2.357589</td>\n",
              "      <td>-1.825029</td>\n",
              "      <td>4.072077</td>\n",
              "      <td>1.324209</td>\n",
              "      <td>-0.445596</td>\n",
              "      <td>-0.897031</td>\n",
              "      <td>-5.400546</td>\n",
              "      <td>-3.391299</td>\n",
              "      <td>2.854429</td>\n",
              "      <td>1.540260</td>\n",
              "      <td>-3.944550</td>\n",
              "      <td>-3.437201</td>\n",
              "      <td>-3.000324</td>\n",
              "      <td>-2.580841</td>\n",
              "      <td>-5.251410</td>\n",
              "      <td>-2.438545</td>\n",
              "      <td>-5.619529</td>\n",
              "      <td>-4.957580</td>\n",
              "      <td>-3.519088</td>\n",
              "      <td>-2.937679</td>\n",
              "      <td>1.200318</td>\n",
              "      <td>0.940963</td>\n",
              "      <td>4.344550</td>\n",
              "      <td>3.068108</td>\n",
              "      <td>2.235244</td>\n",
              "      <td>2.035404</td>\n",
              "      <td>3.871686</td>\n",
              "      <td>2.447606</td>\n",
              "      <td>5.227643</td>\n",
              "      <td>3.000763</td>\n",
              "      <td>-8.137298</td>\n",
              "      <td>-5.824181</td>\n",
              "      <td>...</td>\n",
              "      <td>1.623800</td>\n",
              "      <td>1.957578</td>\n",
              "      <td>0.091765</td>\n",
              "      <td>1.243468</td>\n",
              "      <td>1.909509</td>\n",
              "      <td>-1.338859</td>\n",
              "      <td>2.936132</td>\n",
              "      <td>4.266431</td>\n",
              "      <td>-1.194013</td>\n",
              "      <td>1.161711</td>\n",
              "      <td>2.297318</td>\n",
              "      <td>-0.940190</td>\n",
              "      <td>2.457278</td>\n",
              "      <td>4.918027</td>\n",
              "      <td>-1.781693</td>\n",
              "      <td>1.216467</td>\n",
              "      <td>2.204434</td>\n",
              "      <td>-0.803528</td>\n",
              "      <td>1.913039</td>\n",
              "      <td>3.008125</td>\n",
              "      <td>-1.182054</td>\n",
              "      <td>1.533191</td>\n",
              "      <td>1.730827</td>\n",
              "      <td>-0.957560</td>\n",
              "      <td>2.678498</td>\n",
              "      <td>4.586784</td>\n",
              "      <td>-1.352232</td>\n",
              "      <td>0.947064</td>\n",
              "      <td>1.872610</td>\n",
              "      <td>-1.588960</td>\n",
              "      <td>3.297573</td>\n",
              "      <td>0.167565</td>\n",
              "      <td>1.284142</td>\n",
              "      <td>-2.451120</td>\n",
              "      <td>2.631636</td>\n",
              "      <td>-1.133878</td>\n",
              "      <td>3.054784</td>\n",
              "      <td>-0.360152</td>\n",
              "      <td>2</td>\n",
              "      <td>15211</td>\n",
              "    </tr>\n",
              "    <tr>\n",
              "      <th>15212</th>\n",
              "      <td>4.578606</td>\n",
              "      <td>-1</td>\n",
              "      <td>-3.172026</td>\n",
              "      <td>-3.093182</td>\n",
              "      <td>3.883736</td>\n",
              "      <td>3.517033</td>\n",
              "      <td>2.823677</td>\n",
              "      <td>2.507810</td>\n",
              "      <td>-1.197526</td>\n",
              "      <td>-1.247768</td>\n",
              "      <td>-6.127479</td>\n",
              "      <td>-4.303411</td>\n",
              "      <td>-2.475352</td>\n",
              "      <td>-3.612133</td>\n",
              "      <td>-3.678822</td>\n",
              "      <td>-2.982725</td>\n",
              "      <td>-3.915232</td>\n",
              "      <td>-4.662219</td>\n",
              "      <td>-1.813249</td>\n",
              "      <td>-2.291814</td>\n",
              "      <td>-3.708817</td>\n",
              "      <td>-4.266882</td>\n",
              "      <td>-4.210997</td>\n",
              "      <td>-2.636818</td>\n",
              "      <td>-4.077858</td>\n",
              "      <td>-4.913306</td>\n",
              "      <td>-4.226706</td>\n",
              "      <td>-4.629261</td>\n",
              "      <td>0.104152</td>\n",
              "      <td>0.109132</td>\n",
              "      <td>0.523864</td>\n",
              "      <td>0.462033</td>\n",
              "      <td>0.204139</td>\n",
              "      <td>0.206238</td>\n",
              "      <td>0.366620</td>\n",
              "      <td>0.278123</td>\n",
              "      <td>0.654458</td>\n",
              "      <td>0.429039</td>\n",
              "      <td>-2.382493</td>\n",
              "      <td>-2.415797</td>\n",
              "      <td>...</td>\n",
              "      <td>2.432800</td>\n",
              "      <td>-0.377959</td>\n",
              "      <td>-0.599185</td>\n",
              "      <td>6.794004</td>\n",
              "      <td>1.340996</td>\n",
              "      <td>2.753407</td>\n",
              "      <td>2.769814</td>\n",
              "      <td>2.746680</td>\n",
              "      <td>2.680174</td>\n",
              "      <td>1.906953</td>\n",
              "      <td>5.647487</td>\n",
              "      <td>9.906858</td>\n",
              "      <td>8.442025</td>\n",
              "      <td>11.238251</td>\n",
              "      <td>12.687909</td>\n",
              "      <td>6.644100</td>\n",
              "      <td>1.270626</td>\n",
              "      <td>1.458896</td>\n",
              "      <td>1.397995</td>\n",
              "      <td>1.410858</td>\n",
              "      <td>1.893584</td>\n",
              "      <td>2.447663</td>\n",
              "      <td>4.000851</td>\n",
              "      <td>7.311323</td>\n",
              "      <td>6.735744</td>\n",
              "      <td>7.894014</td>\n",
              "      <td>7.949674</td>\n",
              "      <td>5.792524</td>\n",
              "      <td>-1.148432</td>\n",
              "      <td>0.517090</td>\n",
              "      <td>2.848555</td>\n",
              "      <td>12.955562</td>\n",
              "      <td>-0.303950</td>\n",
              "      <td>3.858204</td>\n",
              "      <td>1.399925</td>\n",
              "      <td>7.881655</td>\n",
              "      <td>2.763662</td>\n",
              "      <td>11.726936</td>\n",
              "      <td>2</td>\n",
              "      <td>15212</td>\n",
              "    </tr>\n",
              "  </tbody>\n",
              "</table>\n",
              "<p>4 rows × 133 columns</p>\n",
              "</div>"
            ],
            "text/plain": [
              "         weight  feature_0  feature_1  ...  feature_129  date  ts_id\n",
              "15201  1.360193          1  -1.811504  ...    -0.301983     2  15201\n",
              "15202  1.991327         -1   0.766996  ...     1.145315     2  15202\n",
              "15211  3.221672         -1  11.429610  ...    -0.360152     2  15211\n",
              "15212  4.578606         -1  -3.172026  ...    11.726936     2  15212\n",
              "\n",
              "[4 rows x 133 columns]"
            ]
          },
          "metadata": {
            "tags": []
          },
          "execution_count": 46
        }
      ]
    },
    {
      "cell_type": "code",
      "metadata": {
        "id": "pqrAAzBSRu-V"
      },
      "source": [
        "df = df[df['weight'] != 0].dropna()"
      ],
      "execution_count": 10,
      "outputs": []
    },
    {
      "cell_type": "code",
      "metadata": {
        "colab": {
          "base_uri": "https://localhost:8080/",
          "height": 265
        },
        "id": "tRV3fl2AR-bF",
        "outputId": "8a1052d3-0bd5-4e97-f10f-6cbb72080aa8"
      },
      "source": [
        "ax = df['weight'].plot.hist(bins=40, alpha=1)"
      ],
      "execution_count": 40,
      "outputs": [
        {
          "output_type": "display_data",
          "data": {
            "image/png": "[encoded data removed]",
            "text/plain": [
              "<Figure size 432x288 with 1 Axes>"
            ]
          },
          "metadata": {
            "tags": [],
            "needs_background": "light"
          }
        }
      ]
    },
    {
      "cell_type": "code",
      "metadata": {
        "id": "wesgt-hJVIAK"
      },
      "source": [
        "col = ['weight', 'ts_id']\r\n",
        "df_for_plot = df[col]"
      ],
      "execution_count": 47,
      "outputs": []
    },
    {
      "cell_type": "code",
      "metadata": {
        "colab": {
          "base_uri": "https://localhost:8080/",
          "height": 297
        },
        "id": "hKJDM7aAZXtt",
        "outputId": "3c6ec2e5-cd1b-4ec3-9226-40df68ac0b9f"
      },
      "source": [
        "df_for_plot.plot.scatter(x='ts_id',y='weight',c='DarkBlue')"
      ],
      "execution_count": 53,
      "outputs": [
        {
          "output_type": "execute_result",
          "data": {
            "text/plain": [
              "<matplotlib.axes._subplots.AxesSubplot at 0x7f67dc11c2e8>"
            ]
          },
          "metadata": {
            "tags": []
          },
          "execution_count": 53
        },
        {
          "output_type": "display_data",
          "data": {
            "image/png": "[encoded data removed]",
            "text/plain": [
              "<Figure size 432x288 with 1 Axes>"
            ]
          },
          "metadata": {
            "tags": [],
            "needs_background": "light"
          }
        }
      ]
    },
    {
      "cell_type": "code",
      "metadata": {
        "id": "wgtjjrQXiYI9"
      },
      "source": [
        "ranges = []\r\n",
        "for i in range(110):\r\n",
        "  ran = i\r\n",
        "  ind = i\r\n",
        "  tmp = df[(df['weight'] > i) & (df['weight'] < ind+1)].shape[0]\r\n",
        "  ranges.append((tmp,ran))"
      ],
      "execution_count": 31,
      "outputs": []
    },
    {
      "cell_type": "code",
      "metadata": {
        "colab": {
          "base_uri": "https://localhost:8080/"
        },
        "id": "vImickFqkgmA",
        "outputId": "9d26985d-7c3a-48b5-a618-c9893c748147"
      },
      "source": [
        "df.shape"
      ],
      "execution_count": 26,
      "outputs": [
        {
          "output_type": "execute_result",
          "data": {
            "text/plain": [
              "(10203, 133)"
            ]
          },
          "metadata": {
            "tags": []
          },
          "execution_count": 26
        }
      ]
    },
    {
      "cell_type": "code",
      "metadata": {
        "colab": {
          "base_uri": "https://localhost:8080/"
        },
        "id": "Gl36l-2Qj-O5",
        "outputId": "a397c86d-5773-4cf2-eaec-b836883ad769"
      },
      "source": [
        "print(ranges)"
      ],
      "execution_count": 32,
      "outputs": [
        {
          "output_type": "stream",
          "text": [
            "[(5200, 0), (1788, 1), (886, 2), (553, 3), (350, 4), (236, 5), (185, 6), (130, 7), (87, 8), (89, 9), (67, 10), (56, 11), (61, 12), (44, 13), (43, 14), (36, 15), (26, 16), (26, 17), (18, 18), (19, 19), (11, 20), (22, 21), (16, 22), (10, 23), (14, 24), (17, 25), (14, 26), (7, 27), (11, 28), (11, 29), (11, 30), (4, 31), (14, 32), (7, 33), (8, 34), (5, 35), (3, 36), (7, 37), (2, 38), (8, 39), (4, 40), (4, 41), (4, 42), (4, 43), (1, 44), (5, 45), (3, 46), (0, 47), (1, 48), (2, 49), (3, 50), (4, 51), (1, 52), (2, 53), (2, 54), (2, 55), (1, 56), (0, 57), (1, 58), (2, 59), (2, 60), (2, 61), (2, 62), (3, 63), (3, 64), (0, 65), (1, 66), (1, 67), (0, 68), (2, 69), (1, 70), (1, 71), (0, 72), (0, 73), (1, 74), (1, 75), (1, 76), (0, 77), (0, 78), (1, 79), (1, 80), (2, 81), (1, 82), (0, 83), (0, 84), (0, 85), (1, 86), (0, 87), (1, 88), (0, 89), (2, 90), (0, 91), (3, 92), (0, 93), (0, 94), (0, 95), (1, 96), (1, 97), (0, 98), (1, 99), (0, 100), (1, 101), (1, 102), (1, 103), (0, 104), (2, 105), (0, 106), (3, 107), (1, 108), (1, 109)]\n"
          ],
          "name": "stdout"
        }
      ]
    },
    {
      "cell_type": "code",
      "metadata": {
        "id": "Du53mV5ebYpk"
      },
      "source": [
        "ranges = []\r\n",
        "for _, value in df['weight'].items():\r\n",
        "  tmp = int(round(value))\r\n",
        "  if tmp == 0:\r\n",
        "    tmp = 1\r\n",
        "  ranges.append(tmp)\r\n",
        "len(ranges)  "
      ],
      "execution_count": null,
      "outputs": []
    },
    {
      "cell_type": "code",
      "metadata": {
        "id": "aAyaPzrGdm_A"
      },
      "source": [
        "df['counts'] = ranges"
      ],
      "execution_count": null,
      "outputs": []
    },
    {
      "cell_type": "code",
      "metadata": {
        "id": "OEXsVgM7-tVa"
      },
      "source": [
        "# Poisson regression code\r\n",
        "import statsmodels.api as sm\r\n",
        "exog, endog = sm.add_constant(x), y\r\n",
        "mod = sm.GLM(endog, exog,family=sm.families.Poisson(link=sm.families.links.log))\r\n",
        "res = mod.fit()"
      ],
      "execution_count": null,
      "outputs": []
    }
  ]
}